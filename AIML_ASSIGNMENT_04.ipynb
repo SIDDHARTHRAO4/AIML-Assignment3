{
  "nbformat": 4,
  "nbformat_minor": 0,
  "metadata": {
    "colab": {
      "provenance": [],
      "authorship_tag": "ABX9TyNgZRsrgrIlJly39YkPksvx",
      "include_colab_link": true
    },
    "kernelspec": {
      "name": "python3",
      "display_name": "Python 3"
    },
    "language_info": {
      "name": "python"
    }
  },
  "cells": [
    {
      "cell_type": "markdown",
      "metadata": {
        "id": "view-in-github",
        "colab_type": "text"
      },
      "source": [
        "<a href=\"https://colab.research.google.com/github/SIDDHARTHRAO4/AIML-Assignment3/blob/main/AIML_ASSIGNMENT_04.ipynb\" target=\"_parent\"><img src=\"https://colab.research.google.com/assets/colab-badge.svg\" alt=\"Open In Colab\"/></a>"
      ]
    },
    {
      "cell_type": "code",
      "execution_count": 1,
      "metadata": {
        "colab": {
          "base_uri": "https://localhost:8080/"
        },
        "id": "3kw7ZnCohOTM",
        "outputId": "f41116be-02f0-40b1-954a-c4da9e35edb2"
      },
      "outputs": [
        {
          "output_type": "stream",
          "name": "stdout",
          "text": [
            "The optimal value is: 4\n",
            "Max -1\n",
            "Min -1\n",
            "Max -1\n",
            "-1\n",
            "4\n",
            "Max 4\n",
            "2\n",
            "6\n",
            "Min 4\n",
            "Max 2\n",
            "-3\n",
            "-5\n",
            "Max 6\n",
            "0\n",
            "7\n"
          ]
        }
      ],
      "source": [
        "def minmax(depth, node_index, maximizing_player, values, plagiarism=False):\n",
        "    if depth == 3 or plagiarism:\n",
        "        return values[node_index]\n",
        "\n",
        "    if maximizing_player:\n",
        "        return max(minmax(depth + 1, node_index * 2, False, values, plagiarism),\n",
        "                   minmax(depth + 1, node_index * 2 + 1, False, values, plagiarism))\n",
        "    else:\n",
        "        return min(minmax(depth + 1, node_index * 2, True, values, plagiarism),\n",
        "                   minmax(depth + 1, node_index * 2 + 1, True, values, plagiarism))\n",
        "\n",
        "def print_tree(depth, node_index, maximizing_player, values, plagiarism=False):\n",
        "    if depth == 3 or plagiarism:\n",
        "        print(f\"{values[node_index]}\")\n",
        "        return\n",
        "\n",
        "    if maximizing_player:\n",
        "        print(f\"Max {values[node_index]}\")\n",
        "        print_tree(depth + 1, node_index * 2, False, values, plagiarism)\n",
        "        print_tree(depth + 1, node_index * 2 + 1, False, values, plagiarism)\n",
        "    else:\n",
        "        print(f\"Min {values[node_index]}\")\n",
        "        print_tree(depth + 1, node_index * 2, True, values, plagiarism)\n",
        "        print_tree(depth + 1, node_index * 2 + 1, True, values, plagiarism)\n",
        "\n",
        "values = [-1, 4, 2, 6, -3, -5, 0, 7]\n",
        "plagiarism = False  # Set to True if plagiarism detected\n",
        "print(\"The optimal value is:\", minmax(0, 0, True, values, plagiarism))\n",
        "print_tree(0, 0, True, values, plagiarism)"
      ]
    },
    {
      "cell_type": "code",
      "source": [
        "def alphabeta(depth, node_index, maximizing_player, alpha, beta, values, plagiarism=False):\n",
        "    if depth == 3 or plagiarism:\n",
        "        return values[node_index]\n",
        "\n",
        "    if maximizing_player:\n",
        "        max_eval = float('-inf')\n",
        "        for child_index in [node_index * 2, node_index * 2 + 1]:\n",
        "            eval = alphabeta(depth + 1, child_index, False, alpha, beta, values, plagiarism)\n",
        "            max_eval = max(max_eval, eval)\n",
        "            alpha = max(alpha, eval)\n",
        "            if beta <= alpha:\n",
        "                break\n",
        "        return max_eval\n",
        "    else:\n",
        "        min_eval = float('inf')\n",
        "        for child_index in [node_index * 2, node_index * 2 + 1]:\n",
        "            eval = alphabeta(depth + 1, child_index, True, alpha, beta, values, plagiarism)\n",
        "            min_eval = min(min_eval, eval)\n",
        "            beta = min(beta, eval)\n",
        "            if beta <= alpha:\n",
        "                break\n",
        "        return min_eval\n",
        "\n",
        "def print_tree(depth, node_index, maximizing_player, values, plagiarism=False):\n",
        "    if depth == 3 or plagiarism:\n",
        "        print(f\"{values[node_index]}\")\n",
        "        return\n",
        "\n",
        "    if maximizing_player:\n",
        "        print(f\"Max {values[node_index]}\")\n",
        "        print_tree(depth + 1, node_index * 2, False, values, plagiarism)\n",
        "        print_tree(depth + 1, node_index * 2 + 1, False, values, plagiarism)\n",
        "    else:\n",
        "        print(f\"Min {values[node_index]}\")\n",
        "        print_tree(depth + 1, node_index * 2, True, values, plagiarism)\n",
        "        print_tree(depth + 1, node_index * 2 + 1, True, values, plagiarism)\n",
        "\n",
        "values = [-1, 4, 2, 6, -3, -5, 0, 7]\n",
        "plagiarism = False  # Set to True if plagiarism detected\n",
        "alpha = float('-inf')\n",
        "beta = float('inf')\n",
        "print(\"The optimal value is:\", alphabeta(0, 0, True, alpha, beta, values, plagiarism))\n",
        "print_tree(0, 0, True, values, plagiarism)"
      ],
      "metadata": {
        "colab": {
          "base_uri": "https://localhost:8080/"
        },
        "id": "UDJGPUMBhbNh",
        "outputId": "7a68a4af-311f-404c-afcb-e7cd593d82b6"
      },
      "execution_count": 2,
      "outputs": [
        {
          "output_type": "stream",
          "name": "stdout",
          "text": [
            "The optimal value is: 4\n",
            "Max -1\n",
            "Min -1\n",
            "Max -1\n",
            "-1\n",
            "4\n",
            "Max 4\n",
            "2\n",
            "6\n",
            "Min 4\n",
            "Max 2\n",
            "-3\n",
            "-5\n",
            "Max 6\n",
            "0\n",
            "7\n"
          ]
        }
      ]
    },
    {
      "cell_type": "code",
      "source": [],
      "metadata": {
        "id": "PjY-MVQNixUz"
      },
      "execution_count": null,
      "outputs": []
    }
  ]
}